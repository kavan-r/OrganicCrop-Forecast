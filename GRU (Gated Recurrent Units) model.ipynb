{
 "cells": [
  {
   "cell_type": "code",
   "execution_count": 2,
   "id": "56bfa7ae-105f-4778-a2be-fe3816800975",
   "metadata": {},
   "outputs": [],
   "source": [
    "# Cell 1: imports and reproducibility\n",
    "import os\n",
    "import numpy as np\n",
    "import pandas as pd\n",
    "import matplotlib.pyplot as plt\n",
    "from sklearn.preprocessing import MinMaxScaler\n",
    "from tensorflow.keras.models import Sequential, load_model\n",
    "from tensorflow.keras.layers import LSTM, Dense, Dropout\n",
    "from tensorflow.keras.callbacks import EarlyStopping, ModelCheckpoint\n",
    "import joblib\n",
    "import tensorflow as tf\n",
    "import datetime\n",
    "\n",
    "# Reproducibility (best-effort)\n",
    "seed = 42\n",
    "np.random.seed(seed)\n",
    "tf.random.set_seed(seed)\n",
    "\n",
    "# Matplotlib nicer defaults (no specific colors set; matplotlib chooses)\n",
    "plt.rcParams['figure.figsize'] = (12,6)\n",
    "plt.rcParams['font.size'] = 12\n"
   ]
  },
  {
   "cell_type": "code",
   "execution_count": 4,
   "id": "e56639bb-6703-4293-833c-9b6924b424c5",
   "metadata": {},
   "outputs": [
    {
     "name": "stdout",
     "output_type": "stream",
     "text": [
      "Columns in CSV: ['price date', 'modal price (rs./quintal)']\n"
     ]
    },
    {
     "data": {
      "text/html": [
       "<div>\n",
       "<style scoped>\n",
       "    .dataframe tbody tr th:only-of-type {\n",
       "        vertical-align: middle;\n",
       "    }\n",
       "\n",
       "    .dataframe tbody tr th {\n",
       "        vertical-align: top;\n",
       "    }\n",
       "\n",
       "    .dataframe thead th {\n",
       "        text-align: right;\n",
       "    }\n",
       "</style>\n",
       "<table border=\"1\" class=\"dataframe\">\n",
       "  <thead>\n",
       "    <tr style=\"text-align: right;\">\n",
       "      <th></th>\n",
       "      <th>price date</th>\n",
       "      <th>modal price (rs./quintal)</th>\n",
       "    </tr>\n",
       "  </thead>\n",
       "  <tbody>\n",
       "    <tr>\n",
       "      <th>0</th>\n",
       "      <td>2020-01-01</td>\n",
       "      <td>2038.0</td>\n",
       "    </tr>\n",
       "    <tr>\n",
       "      <th>1</th>\n",
       "      <td>2020-01-02</td>\n",
       "      <td>2475.0</td>\n",
       "    </tr>\n",
       "    <tr>\n",
       "      <th>2</th>\n",
       "      <td>2020-01-03</td>\n",
       "      <td>2500.0</td>\n",
       "    </tr>\n",
       "    <tr>\n",
       "      <th>3</th>\n",
       "      <td>2020-01-04</td>\n",
       "      <td>2564.0</td>\n",
       "    </tr>\n",
       "    <tr>\n",
       "      <th>4</th>\n",
       "      <td>2020-01-05</td>\n",
       "      <td>2564.0</td>\n",
       "    </tr>\n",
       "  </tbody>\n",
       "</table>\n",
       "</div>"
      ],
      "text/plain": [
       "   price date  modal price (rs./quintal)\n",
       "0  2020-01-01                     2038.0\n",
       "1  2020-01-02                     2475.0\n",
       "2  2020-01-03                     2500.0\n",
       "3  2020-01-04                     2564.0\n",
       "4  2020-01-05                     2564.0"
      ]
     },
     "metadata": {},
     "output_type": "display_data"
    },
    {
     "name": "stdout",
     "output_type": "stream",
     "text": [
      "Using date col: price date\n",
      "Using price col: modal price (rs./quintal)\n",
      "Data range: 2020-01-01 00:00:00 to 2024-12-05 00:00:00\n"
     ]
    },
    {
     "data": {
      "text/html": [
       "<div>\n",
       "<style scoped>\n",
       "    .dataframe tbody tr th:only-of-type {\n",
       "        vertical-align: middle;\n",
       "    }\n",
       "\n",
       "    .dataframe tbody tr th {\n",
       "        vertical-align: top;\n",
       "    }\n",
       "\n",
       "    .dataframe thead th {\n",
       "        text-align: right;\n",
       "    }\n",
       "</style>\n",
       "<table border=\"1\" class=\"dataframe\">\n",
       "  <thead>\n",
       "    <tr style=\"text-align: right;\">\n",
       "      <th></th>\n",
       "      <th>price</th>\n",
       "    </tr>\n",
       "    <tr>\n",
       "      <th>date</th>\n",
       "      <th></th>\n",
       "    </tr>\n",
       "  </thead>\n",
       "  <tbody>\n",
       "    <tr>\n",
       "      <th>2020-01-01</th>\n",
       "      <td>2038.0</td>\n",
       "    </tr>\n",
       "    <tr>\n",
       "      <th>2020-01-02</th>\n",
       "      <td>2475.0</td>\n",
       "    </tr>\n",
       "    <tr>\n",
       "      <th>2020-01-03</th>\n",
       "      <td>2500.0</td>\n",
       "    </tr>\n",
       "    <tr>\n",
       "      <th>2020-01-04</th>\n",
       "      <td>2564.0</td>\n",
       "    </tr>\n",
       "    <tr>\n",
       "      <th>2020-01-05</th>\n",
       "      <td>2564.0</td>\n",
       "    </tr>\n",
       "  </tbody>\n",
       "</table>\n",
       "</div>"
      ],
      "text/plain": [
       "             price\n",
       "date              \n",
       "2020-01-01  2038.0\n",
       "2020-01-02  2475.0\n",
       "2020-01-03  2500.0\n",
       "2020-01-04  2564.0\n",
       "2020-01-05  2564.0"
      ]
     },
     "metadata": {},
     "output_type": "display_data"
    }
   ],
   "source": [
    "# Cell 2: load CSV - change filename/path as needed\n",
    "csv_path = \"wheat_Mysore_daily.csv\"  # change if your filename differs\n",
    "\n",
    "# If your CSV has two columns exactly as shown, adjust names below.\n",
    "# Example header in question: \"price date\\tmodal price (rs./quintal)\"\n",
    "# We'll attempt to handle common variants automatically.\n",
    "df = pd.read_csv(csv_path)\n",
    "\n",
    "# Inspect first rows to ensure correct column names\n",
    "print(\"Columns in CSV:\", df.columns.tolist())\n",
    "display(df.head())\n",
    "\n",
    "# Normalize column detection: find date and price columns heuristically\n",
    "# If your date column has 'date' in name and price column contains 'price' we'll pick them.\n",
    "date_col = None\n",
    "price_col = None\n",
    "cols = [c.lower() for c in df.columns]\n",
    "\n",
    "for orig, lower in zip(df.columns, cols):\n",
    "    if 'date' in lower:\n",
    "        date_col = orig\n",
    "    if 'price' in lower or 'modal' in lower or 'quintal' in lower:\n",
    "        price_col = orig\n",
    "\n",
    "if date_col is None:\n",
    "    # fallback to first column\n",
    "    date_col = df.columns[0]\n",
    "if price_col is None:\n",
    "    # fallback to second column\n",
    "    price_col = df.columns[1] if len(df.columns) > 1 else df.columns[0]\n",
    "\n",
    "print(\"Using date col:\", date_col)\n",
    "print(\"Using price col:\", price_col)\n",
    "\n",
    "# Parse dates, sort, and keep necessary columns\n",
    "df[date_col] = pd.to_datetime(df[date_col], dayfirst=False, errors='coerce')\n",
    "df = df[[date_col, price_col]].dropna()\n",
    "df = df.sort_values(by=date_col).reset_index(drop=True)\n",
    "df.rename(columns={date_col: \"date\", price_col: \"price\"}, inplace=True)\n",
    "\n",
    "# If price is string with commas, remove commas\n",
    "df['price'] = df['price'].astype(str).str.replace(',', '').astype(float)\n",
    "\n",
    "df.set_index('date', inplace=True)\n",
    "print(\"Data range:\", df.index.min(), \"to\", df.index.max())\n",
    "display(df.head())\n"
   ]
  },
  {
   "cell_type": "code",
   "execution_count": 5,
   "id": "d8a06c6e-0d8b-4ab4-85d2-20d2af7686be",
   "metadata": {},
   "outputs": [
    {
     "name": "stdout",
     "output_type": "stream",
     "text": [
      "X shape: (1741, 60, 1) y shape: (1741,)\n",
      "Train samples: 1566 Test samples: 175\n"
     ]
    }
   ],
   "source": [
    "# Cell 3: windowing and scaling\n",
    "lookback = 60  # previous 60 days\n",
    "prices = df['price'].values.reshape(-1,1)\n",
    "\n",
    "scaler = MinMaxScaler(feature_range=(0,1))\n",
    "prices_scaled = scaler.fit_transform(prices)\n",
    "\n",
    "# Build sequences X (lookback) -> y (next day)\n",
    "X = []\n",
    "y = []\n",
    "for i in range(lookback, len(prices_scaled)):\n",
    "    X.append(prices_scaled[i-lookback:i, 0])\n",
    "    y.append(prices_scaled[i, 0])\n",
    "\n",
    "X = np.array(X)\n",
    "y = np.array(y)\n",
    "\n",
    "# reshape for LSTM: (samples, timesteps, features)\n",
    "X = X.reshape((X.shape[0], X.shape[1], 1))\n",
    "\n",
    "print(\"X shape:\", X.shape, \"y shape:\", y.shape)\n",
    "\n",
    "# train/test split (e.g., last 10% as test)\n",
    "split_idx = int(0.9 * len(X))\n",
    "X_train, X_test = X[:split_idx], X[split_idx:]\n",
    "y_train, y_test = y[:split_idx], y[split_idx:]\n",
    "\n",
    "print(\"Train samples:\", X_train.shape[0], \"Test samples:\", X_test.shape[0])\n"
   ]
  },
  {
   "cell_type": "code",
   "execution_count": 6,
   "id": "a12a05c1-ab0d-4ac2-b664-fb7744904909",
   "metadata": {},
   "outputs": [
    {
     "name": "stderr",
     "output_type": "stream",
     "text": [
      "c:\\Users\\ravik\\Desktop\\OrganicCrop-Forecast\\venv\\lib\\site-packages\\keras\\src\\layers\\rnn\\rnn.py:199: UserWarning: Do not pass an `input_shape`/`input_dim` argument to a layer. When using Sequential models, prefer using an `Input(shape)` object as the first layer in the model instead.\n",
      "  super().__init__(**kwargs)\n"
     ]
    },
    {
     "data": {
      "text/html": [
       "<pre style=\"white-space:pre;overflow-x:auto;line-height:normal;font-family:Menlo,'DejaVu Sans Mono',consolas,'Courier New',monospace\"><span style=\"font-weight: bold\">Model: \"sequential\"</span>\n",
       "</pre>\n"
      ],
      "text/plain": [
       "\u001b[1mModel: \"sequential\"\u001b[0m\n"
      ]
     },
     "metadata": {},
     "output_type": "display_data"
    },
    {
     "data": {
      "text/html": [
       "<pre style=\"white-space:pre;overflow-x:auto;line-height:normal;font-family:Menlo,'DejaVu Sans Mono',consolas,'Courier New',monospace\">┏━━━━━━━━━━━━━━━━━━━━━━━━━━━━━━━━━┳━━━━━━━━━━━━━━━━━━━━━━━━┳━━━━━━━━━━━━━━━┓\n",
       "┃<span style=\"font-weight: bold\"> Layer (type)                    </span>┃<span style=\"font-weight: bold\"> Output Shape           </span>┃<span style=\"font-weight: bold\">       Param # </span>┃\n",
       "┡━━━━━━━━━━━━━━━━━━━━━━━━━━━━━━━━━╇━━━━━━━━━━━━━━━━━━━━━━━━╇━━━━━━━━━━━━━━━┩\n",
       "│ gru (<span style=\"color: #0087ff; text-decoration-color: #0087ff\">GRU</span>)                       │ (<span style=\"color: #00d7ff; text-decoration-color: #00d7ff\">None</span>, <span style=\"color: #00af00; text-decoration-color: #00af00\">60</span>, <span style=\"color: #00af00; text-decoration-color: #00af00\">128</span>)        │        <span style=\"color: #00af00; text-decoration-color: #00af00\">50,304</span> │\n",
       "├─────────────────────────────────┼────────────────────────┼───────────────┤\n",
       "│ dropout (<span style=\"color: #0087ff; text-decoration-color: #0087ff\">Dropout</span>)               │ (<span style=\"color: #00d7ff; text-decoration-color: #00d7ff\">None</span>, <span style=\"color: #00af00; text-decoration-color: #00af00\">60</span>, <span style=\"color: #00af00; text-decoration-color: #00af00\">128</span>)        │             <span style=\"color: #00af00; text-decoration-color: #00af00\">0</span> │\n",
       "├─────────────────────────────────┼────────────────────────┼───────────────┤\n",
       "│ gru_1 (<span style=\"color: #0087ff; text-decoration-color: #0087ff\">GRU</span>)                     │ (<span style=\"color: #00d7ff; text-decoration-color: #00d7ff\">None</span>, <span style=\"color: #00af00; text-decoration-color: #00af00\">64</span>)             │        <span style=\"color: #00af00; text-decoration-color: #00af00\">37,248</span> │\n",
       "├─────────────────────────────────┼────────────────────────┼───────────────┤\n",
       "│ dropout_1 (<span style=\"color: #0087ff; text-decoration-color: #0087ff\">Dropout</span>)             │ (<span style=\"color: #00d7ff; text-decoration-color: #00d7ff\">None</span>, <span style=\"color: #00af00; text-decoration-color: #00af00\">64</span>)             │             <span style=\"color: #00af00; text-decoration-color: #00af00\">0</span> │\n",
       "├─────────────────────────────────┼────────────────────────┼───────────────┤\n",
       "│ dense (<span style=\"color: #0087ff; text-decoration-color: #0087ff\">Dense</span>)                   │ (<span style=\"color: #00d7ff; text-decoration-color: #00d7ff\">None</span>, <span style=\"color: #00af00; text-decoration-color: #00af00\">64</span>)             │         <span style=\"color: #00af00; text-decoration-color: #00af00\">4,160</span> │\n",
       "├─────────────────────────────────┼────────────────────────┼───────────────┤\n",
       "│ dense_1 (<span style=\"color: #0087ff; text-decoration-color: #0087ff\">Dense</span>)                 │ (<span style=\"color: #00d7ff; text-decoration-color: #00d7ff\">None</span>, <span style=\"color: #00af00; text-decoration-color: #00af00\">1</span>)              │            <span style=\"color: #00af00; text-decoration-color: #00af00\">65</span> │\n",
       "└─────────────────────────────────┴────────────────────────┴───────────────┘\n",
       "</pre>\n"
      ],
      "text/plain": [
       "┏━━━━━━━━━━━━━━━━━━━━━━━━━━━━━━━━━┳━━━━━━━━━━━━━━━━━━━━━━━━┳━━━━━━━━━━━━━━━┓\n",
       "┃\u001b[1m \u001b[0m\u001b[1mLayer (type)                   \u001b[0m\u001b[1m \u001b[0m┃\u001b[1m \u001b[0m\u001b[1mOutput Shape          \u001b[0m\u001b[1m \u001b[0m┃\u001b[1m \u001b[0m\u001b[1m      Param #\u001b[0m\u001b[1m \u001b[0m┃\n",
       "┡━━━━━━━━━━━━━━━━━━━━━━━━━━━━━━━━━╇━━━━━━━━━━━━━━━━━━━━━━━━╇━━━━━━━━━━━━━━━┩\n",
       "│ gru (\u001b[38;5;33mGRU\u001b[0m)                       │ (\u001b[38;5;45mNone\u001b[0m, \u001b[38;5;34m60\u001b[0m, \u001b[38;5;34m128\u001b[0m)        │        \u001b[38;5;34m50,304\u001b[0m │\n",
       "├─────────────────────────────────┼────────────────────────┼───────────────┤\n",
       "│ dropout (\u001b[38;5;33mDropout\u001b[0m)               │ (\u001b[38;5;45mNone\u001b[0m, \u001b[38;5;34m60\u001b[0m, \u001b[38;5;34m128\u001b[0m)        │             \u001b[38;5;34m0\u001b[0m │\n",
       "├─────────────────────────────────┼────────────────────────┼───────────────┤\n",
       "│ gru_1 (\u001b[38;5;33mGRU\u001b[0m)                     │ (\u001b[38;5;45mNone\u001b[0m, \u001b[38;5;34m64\u001b[0m)             │        \u001b[38;5;34m37,248\u001b[0m │\n",
       "├─────────────────────────────────┼────────────────────────┼───────────────┤\n",
       "│ dropout_1 (\u001b[38;5;33mDropout\u001b[0m)             │ (\u001b[38;5;45mNone\u001b[0m, \u001b[38;5;34m64\u001b[0m)             │             \u001b[38;5;34m0\u001b[0m │\n",
       "├─────────────────────────────────┼────────────────────────┼───────────────┤\n",
       "│ dense (\u001b[38;5;33mDense\u001b[0m)                   │ (\u001b[38;5;45mNone\u001b[0m, \u001b[38;5;34m64\u001b[0m)             │         \u001b[38;5;34m4,160\u001b[0m │\n",
       "├─────────────────────────────────┼────────────────────────┼───────────────┤\n",
       "│ dense_1 (\u001b[38;5;33mDense\u001b[0m)                 │ (\u001b[38;5;45mNone\u001b[0m, \u001b[38;5;34m1\u001b[0m)              │            \u001b[38;5;34m65\u001b[0m │\n",
       "└─────────────────────────────────┴────────────────────────┴───────────────┘\n"
      ]
     },
     "metadata": {},
     "output_type": "display_data"
    },
    {
     "data": {
      "text/html": [
       "<pre style=\"white-space:pre;overflow-x:auto;line-height:normal;font-family:Menlo,'DejaVu Sans Mono',consolas,'Courier New',monospace\"><span style=\"font-weight: bold\"> Total params: </span><span style=\"color: #00af00; text-decoration-color: #00af00\">91,777</span> (358.50 KB)\n",
       "</pre>\n"
      ],
      "text/plain": [
       "\u001b[1m Total params: \u001b[0m\u001b[38;5;34m91,777\u001b[0m (358.50 KB)\n"
      ]
     },
     "metadata": {},
     "output_type": "display_data"
    },
    {
     "data": {
      "text/html": [
       "<pre style=\"white-space:pre;overflow-x:auto;line-height:normal;font-family:Menlo,'DejaVu Sans Mono',consolas,'Courier New',monospace\"><span style=\"font-weight: bold\"> Trainable params: </span><span style=\"color: #00af00; text-decoration-color: #00af00\">91,777</span> (358.50 KB)\n",
       "</pre>\n"
      ],
      "text/plain": [
       "\u001b[1m Trainable params: \u001b[0m\u001b[38;5;34m91,777\u001b[0m (358.50 KB)\n"
      ]
     },
     "metadata": {},
     "output_type": "display_data"
    },
    {
     "data": {
      "text/html": [
       "<pre style=\"white-space:pre;overflow-x:auto;line-height:normal;font-family:Menlo,'DejaVu Sans Mono',consolas,'Courier New',monospace\"><span style=\"font-weight: bold\"> Non-trainable params: </span><span style=\"color: #00af00; text-decoration-color: #00af00\">0</span> (0.00 B)\n",
       "</pre>\n"
      ],
      "text/plain": [
       "\u001b[1m Non-trainable params: \u001b[0m\u001b[38;5;34m0\u001b[0m (0.00 B)\n"
      ]
     },
     "metadata": {},
     "output_type": "display_data"
    },
    {
     "name": "stdout",
     "output_type": "stream",
     "text": [
      "Epoch 1/100\n",
      "\n",
      "Epoch 1: val_loss improved from None to 0.00006, saving model to models/best_lstm.h5\n"
     ]
    },
    {
     "name": "stderr",
     "output_type": "stream",
     "text": [
      "WARNING:absl:You are saving your model as an HDF5 file via `model.save()` or `keras.saving.save_model(model)`. This file format is considered legacy. We recommend using instead the native Keras format, e.g. `model.save('my_model.keras')` or `keras.saving.save_model(model, 'my_model.keras')`. \n"
     ]
    },
    {
     "name": "stdout",
     "output_type": "stream",
     "text": [
      "98/98 - 7s - 68ms/step - loss: 7.7303e-04 - mae: 0.0108 - val_loss: 6.0162e-05 - val_mae: 0.0068\n",
      "Epoch 2/100\n",
      "\n",
      "Epoch 2: val_loss did not improve from 0.00006\n",
      "98/98 - 3s - 27ms/step - loss: 6.7795e-04 - mae: 0.0080 - val_loss: 1.2076e-04 - val_mae: 0.0098\n",
      "Epoch 3/100\n",
      "\n",
      "Epoch 3: val_loss did not improve from 0.00006\n",
      "98/98 - 3s - 28ms/step - loss: 6.8398e-04 - mae: 0.0079 - val_loss: 6.4557e-05 - val_mae: 0.0068\n",
      "Epoch 4/100\n",
      "\n",
      "Epoch 4: val_loss did not improve from 0.00006\n",
      "98/98 - 3s - 27ms/step - loss: 7.0816e-04 - mae: 0.0092 - val_loss: 6.2414e-05 - val_mae: 0.0069\n",
      "Epoch 5/100\n",
      "\n",
      "Epoch 5: val_loss did not improve from 0.00006\n",
      "98/98 - 3s - 28ms/step - loss: 6.7517e-04 - mae: 0.0079 - val_loss: 1.4135e-04 - val_mae: 0.0107\n",
      "Epoch 6/100\n",
      "\n",
      "Epoch 6: val_loss did not improve from 0.00006\n",
      "98/98 - 3s - 28ms/step - loss: 6.8036e-04 - mae: 0.0081 - val_loss: 6.0399e-05 - val_mae: 0.0068\n",
      "Epoch 7/100\n",
      "\n",
      "Epoch 7: val_loss improved from 0.00006 to 0.00004, saving model to models/best_lstm.h5\n"
     ]
    },
    {
     "name": "stderr",
     "output_type": "stream",
     "text": [
      "WARNING:absl:You are saving your model as an HDF5 file via `model.save()` or `keras.saving.save_model(model)`. This file format is considered legacy. We recommend using instead the native Keras format, e.g. `model.save('my_model.keras')` or `keras.saving.save_model(model, 'my_model.keras')`. \n"
     ]
    },
    {
     "name": "stdout",
     "output_type": "stream",
     "text": [
      "98/98 - 3s - 28ms/step - loss: 6.6611e-04 - mae: 0.0073 - val_loss: 4.3762e-05 - val_mae: 0.0055\n",
      "Epoch 8/100\n",
      "\n",
      "Epoch 8: val_loss did not improve from 0.00004\n",
      "98/98 - 3s - 30ms/step - loss: 6.5649e-04 - mae: 0.0070 - val_loss: 7.7828e-05 - val_mae: 0.0077\n",
      "Epoch 9/100\n",
      "\n",
      "Epoch 9: val_loss did not improve from 0.00004\n",
      "98/98 - 3s - 35ms/step - loss: 6.5747e-04 - mae: 0.0074 - val_loss: 4.5216e-05 - val_mae: 0.0058\n",
      "Epoch 10/100\n",
      "\n",
      "Epoch 10: val_loss did not improve from 0.00004\n",
      "98/98 - 4s - 40ms/step - loss: 6.5795e-04 - mae: 0.0069 - val_loss: 1.0075e-04 - val_mae: 0.0089\n",
      "Epoch 11/100\n",
      "\n",
      "Epoch 11: val_loss improved from 0.00004 to 0.00004, saving model to models/best_lstm.h5\n"
     ]
    },
    {
     "name": "stderr",
     "output_type": "stream",
     "text": [
      "WARNING:absl:You are saving your model as an HDF5 file via `model.save()` or `keras.saving.save_model(model)`. This file format is considered legacy. We recommend using instead the native Keras format, e.g. `model.save('my_model.keras')` or `keras.saving.save_model(model, 'my_model.keras')`. \n"
     ]
    },
    {
     "name": "stdout",
     "output_type": "stream",
     "text": [
      "98/98 - 5s - 49ms/step - loss: 6.3442e-04 - mae: 0.0064 - val_loss: 3.8114e-05 - val_mae: 0.0043\n",
      "Epoch 12/100\n",
      "\n",
      "Epoch 12: val_loss improved from 0.00004 to 0.00004, saving model to models/best_lstm.h5\n"
     ]
    },
    {
     "name": "stderr",
     "output_type": "stream",
     "text": [
      "WARNING:absl:You are saving your model as an HDF5 file via `model.save()` or `keras.saving.save_model(model)`. This file format is considered legacy. We recommend using instead the native Keras format, e.g. `model.save('my_model.keras')` or `keras.saving.save_model(model, 'my_model.keras')`. \n"
     ]
    },
    {
     "name": "stdout",
     "output_type": "stream",
     "text": [
      "98/98 - 4s - 40ms/step - loss: 6.4767e-04 - mae: 0.0066 - val_loss: 3.5869e-05 - val_mae: 0.0051\n",
      "Epoch 13/100\n",
      "\n",
      "Epoch 13: val_loss did not improve from 0.00004\n",
      "98/98 - 3s - 35ms/step - loss: 6.4432e-04 - mae: 0.0069 - val_loss: 7.4415e-05 - val_mae: 0.0076\n",
      "Epoch 14/100\n",
      "\n",
      "Epoch 14: val_loss did not improve from 0.00004\n",
      "98/98 - 5s - 48ms/step - loss: 6.4200e-04 - mae: 0.0066 - val_loss: 6.3153e-05 - val_mae: 0.0069\n",
      "Epoch 15/100\n",
      "\n",
      "Epoch 15: val_loss did not improve from 0.00004\n",
      "98/98 - 3s - 34ms/step - loss: 6.4309e-04 - mae: 0.0068 - val_loss: 1.3079e-04 - val_mae: 0.0101\n",
      "Epoch 16/100\n",
      "\n",
      "Epoch 16: val_loss did not improve from 0.00004\n",
      "98/98 - 3s - 30ms/step - loss: 6.4414e-04 - mae: 0.0066 - val_loss: 8.5850e-05 - val_mae: 0.0081\n",
      "Epoch 17/100\n",
      "\n",
      "Epoch 17: val_loss did not improve from 0.00004\n",
      "98/98 - 3s - 30ms/step - loss: 6.3330e-04 - mae: 0.0062 - val_loss: 6.8850e-05 - val_mae: 0.0074\n",
      "Epoch 18/100\n",
      "\n",
      "Epoch 18: val_loss improved from 0.00004 to 0.00003, saving model to models/best_lstm.h5\n"
     ]
    },
    {
     "name": "stderr",
     "output_type": "stream",
     "text": [
      "WARNING:absl:You are saving your model as an HDF5 file via `model.save()` or `keras.saving.save_model(model)`. This file format is considered legacy. We recommend using instead the native Keras format, e.g. `model.save('my_model.keras')` or `keras.saving.save_model(model, 'my_model.keras')`. \n"
     ]
    },
    {
     "name": "stdout",
     "output_type": "stream",
     "text": [
      "98/98 - 3s - 34ms/step - loss: 6.2399e-04 - mae: 0.0060 - val_loss: 3.3977e-05 - val_mae: 0.0050\n",
      "Epoch 19/100\n",
      "\n",
      "Epoch 19: val_loss did not improve from 0.00003\n",
      "98/98 - 3s - 30ms/step - loss: 6.4675e-04 - mae: 0.0067 - val_loss: 6.8464e-05 - val_mae: 0.0071\n",
      "Epoch 20/100\n",
      "\n",
      "Epoch 20: val_loss did not improve from 0.00003\n",
      "98/98 - 3s - 30ms/step - loss: 6.3723e-04 - mae: 0.0064 - val_loss: 8.9079e-05 - val_mae: 0.0084\n",
      "Epoch 21/100\n",
      "\n",
      "Epoch 21: val_loss did not improve from 0.00003\n",
      "98/98 - 3s - 29ms/step - loss: 6.4103e-04 - mae: 0.0064 - val_loss: 7.9205e-05 - val_mae: 0.0079\n",
      "Epoch 22/100\n",
      "\n",
      "Epoch 22: val_loss improved from 0.00003 to 0.00002, saving model to models/best_lstm.h5\n"
     ]
    },
    {
     "name": "stderr",
     "output_type": "stream",
     "text": [
      "WARNING:absl:You are saving your model as an HDF5 file via `model.save()` or `keras.saving.save_model(model)`. This file format is considered legacy. We recommend using instead the native Keras format, e.g. `model.save('my_model.keras')` or `keras.saving.save_model(model, 'my_model.keras')`. \n"
     ]
    },
    {
     "name": "stdout",
     "output_type": "stream",
     "text": [
      "98/98 - 3s - 32ms/step - loss: 6.2833e-04 - mae: 0.0062 - val_loss: 2.1036e-05 - val_mae: 0.0035\n",
      "Epoch 23/100\n",
      "\n",
      "Epoch 23: val_loss did not improve from 0.00002\n",
      "98/98 - 5s - 50ms/step - loss: 6.2920e-04 - mae: 0.0060 - val_loss: 1.3728e-04 - val_mae: 0.0108\n",
      "Epoch 24/100\n",
      "\n",
      "Epoch 24: val_loss did not improve from 0.00002\n",
      "98/98 - 3s - 31ms/step - loss: 6.3033e-04 - mae: 0.0062 - val_loss: 1.0476e-04 - val_mae: 0.0092\n",
      "Epoch 25/100\n",
      "\n",
      "Epoch 25: val_loss did not improve from 0.00002\n",
      "98/98 - 3s - 31ms/step - loss: 6.2378e-04 - mae: 0.0059 - val_loss: 1.0629e-04 - val_mae: 0.0095\n",
      "Epoch 26/100\n",
      "\n",
      "Epoch 26: val_loss improved from 0.00002 to 0.00002, saving model to models/best_lstm.h5\n"
     ]
    },
    {
     "name": "stderr",
     "output_type": "stream",
     "text": [
      "WARNING:absl:You are saving your model as an HDF5 file via `model.save()` or `keras.saving.save_model(model)`. This file format is considered legacy. We recommend using instead the native Keras format, e.g. `model.save('my_model.keras')` or `keras.saving.save_model(model, 'my_model.keras')`. \n"
     ]
    },
    {
     "name": "stdout",
     "output_type": "stream",
     "text": [
      "98/98 - 3s - 31ms/step - loss: 6.2455e-04 - mae: 0.0059 - val_loss: 1.8653e-05 - val_mae: 0.0030\n",
      "Epoch 27/100\n",
      "\n",
      "Epoch 27: val_loss did not improve from 0.00002\n",
      "98/98 - 3s - 33ms/step - loss: 6.4326e-04 - mae: 0.0065 - val_loss: 7.2946e-05 - val_mae: 0.0076\n",
      "Epoch 28/100\n",
      "\n",
      "Epoch 28: val_loss did not improve from 0.00002\n",
      "98/98 - 3s - 35ms/step - loss: 6.3207e-04 - mae: 0.0062 - val_loss: 2.0905e-04 - val_mae: 0.0136\n",
      "Epoch 29/100\n",
      "\n",
      "Epoch 29: val_loss did not improve from 0.00002\n",
      "98/98 - 4s - 36ms/step - loss: 6.2309e-04 - mae: 0.0058 - val_loss: 9.4406e-05 - val_mae: 0.0088\n",
      "Epoch 30/100\n",
      "\n",
      "Epoch 30: val_loss did not improve from 0.00002\n",
      "98/98 - 6s - 59ms/step - loss: 6.1981e-04 - mae: 0.0057 - val_loss: 9.0385e-05 - val_mae: 0.0088\n",
      "Epoch 31/100\n",
      "\n",
      "Epoch 31: val_loss did not improve from 0.00002\n",
      "98/98 - 6s - 58ms/step - loss: 6.3481e-04 - mae: 0.0060 - val_loss: 1.8291e-04 - val_mae: 0.0126\n",
      "Epoch 32/100\n",
      "\n",
      "Epoch 32: val_loss improved from 0.00002 to 0.00002, saving model to models/best_lstm.h5\n"
     ]
    },
    {
     "name": "stderr",
     "output_type": "stream",
     "text": [
      "WARNING:absl:You are saving your model as an HDF5 file via `model.save()` or `keras.saving.save_model(model)`. This file format is considered legacy. We recommend using instead the native Keras format, e.g. `model.save('my_model.keras')` or `keras.saving.save_model(model, 'my_model.keras')`. \n"
     ]
    },
    {
     "name": "stdout",
     "output_type": "stream",
     "text": [
      "98/98 - 6s - 66ms/step - loss: 6.3024e-04 - mae: 0.0060 - val_loss: 1.8625e-05 - val_mae: 0.0032\n",
      "Epoch 33/100\n",
      "\n",
      "Epoch 33: val_loss did not improve from 0.00002\n",
      "98/98 - 5s - 54ms/step - loss: 6.2760e-04 - mae: 0.0060 - val_loss: 5.0371e-05 - val_mae: 0.0063\n",
      "Epoch 34/100\n",
      "\n",
      "Epoch 34: val_loss improved from 0.00002 to 0.00002, saving model to models/best_lstm.h5\n"
     ]
    },
    {
     "name": "stderr",
     "output_type": "stream",
     "text": [
      "WARNING:absl:You are saving your model as an HDF5 file via `model.save()` or `keras.saving.save_model(model)`. This file format is considered legacy. We recommend using instead the native Keras format, e.g. `model.save('my_model.keras')` or `keras.saving.save_model(model, 'my_model.keras')`. \n"
     ]
    },
    {
     "name": "stdout",
     "output_type": "stream",
     "text": [
      "98/98 - 5s - 55ms/step - loss: 6.2711e-04 - mae: 0.0059 - val_loss: 1.7243e-05 - val_mae: 0.0029\n",
      "Epoch 35/100\n",
      "\n",
      "Epoch 35: val_loss did not improve from 0.00002\n",
      "98/98 - 6s - 62ms/step - loss: 6.7720e-04 - mae: 0.0061 - val_loss: 2.0497e-04 - val_mae: 0.0134\n",
      "Epoch 36/100\n",
      "\n",
      "Epoch 36: val_loss did not improve from 0.00002\n",
      "98/98 - 6s - 57ms/step - loss: 6.3607e-04 - mae: 0.0061 - val_loss: 2.2140e-04 - val_mae: 0.0139\n",
      "Epoch 37/100\n",
      "\n",
      "Epoch 37: val_loss did not improve from 0.00002\n",
      "98/98 - 10s - 100ms/step - loss: 6.4338e-04 - mae: 0.0066 - val_loss: 2.2808e-04 - val_mae: 0.0144\n",
      "Epoch 38/100\n",
      "\n",
      "Epoch 38: val_loss did not improve from 0.00002\n",
      "98/98 - 6s - 61ms/step - loss: 6.3076e-04 - mae: 0.0060 - val_loss: 1.9139e-04 - val_mae: 0.0131\n",
      "Epoch 39/100\n",
      "\n",
      "Epoch 39: val_loss did not improve from 0.00002\n",
      "98/98 - 6s - 61ms/step - loss: 6.3484e-04 - mae: 0.0061 - val_loss: 3.1502e-04 - val_mae: 0.0169\n",
      "Epoch 40/100\n",
      "\n",
      "Epoch 40: val_loss did not improve from 0.00002\n",
      "98/98 - 10s - 101ms/step - loss: 6.3259e-04 - mae: 0.0060 - val_loss: 1.8031e-04 - val_mae: 0.0127\n",
      "Epoch 41/100\n",
      "\n",
      "Epoch 41: val_loss did not improve from 0.00002\n",
      "98/98 - 6s - 59ms/step - loss: 6.2132e-04 - mae: 0.0058 - val_loss: 7.0985e-05 - val_mae: 0.0077\n",
      "Epoch 42/100\n",
      "\n",
      "Epoch 42: val_loss did not improve from 0.00002\n",
      "98/98 - 6s - 58ms/step - loss: 6.1659e-04 - mae: 0.0055 - val_loss: 1.7616e-04 - val_mae: 0.0126\n",
      "Epoch 43/100\n",
      "\n",
      "Epoch 43: val_loss did not improve from 0.00002\n",
      "98/98 - 6s - 59ms/step - loss: 6.2875e-04 - mae: 0.0059 - val_loss: 2.5910e-04 - val_mae: 0.0154\n",
      "Epoch 44/100\n",
      "\n",
      "Epoch 44: val_loss did not improve from 0.00002\n",
      "98/98 - 6s - 57ms/step - loss: 6.2864e-04 - mae: 0.0056 - val_loss: 1.5720e-04 - val_mae: 0.0119\n",
      "Epoch 45/100\n",
      "\n",
      "Epoch 45: val_loss did not improve from 0.00002\n",
      "98/98 - 6s - 60ms/step - loss: 6.1924e-04 - mae: 0.0055 - val_loss: 1.5909e-04 - val_mae: 0.0120\n",
      "Epoch 46/100\n",
      "\n",
      "Epoch 46: val_loss did not improve from 0.00002\n",
      "98/98 - 6s - 59ms/step - loss: 6.1457e-04 - mae: 0.0054 - val_loss: 1.2451e-04 - val_mae: 0.0105\n",
      "Epoch 47/100\n",
      "\n",
      "Epoch 47: val_loss did not improve from 0.00002\n",
      "98/98 - 6s - 63ms/step - loss: 6.3119e-04 - mae: 0.0059 - val_loss: 3.4038e-04 - val_mae: 0.0178\n",
      "Epoch 48/100\n",
      "\n",
      "Epoch 48: val_loss did not improve from 0.00002\n",
      "98/98 - 6s - 60ms/step - loss: 6.2888e-04 - mae: 0.0061 - val_loss: 1.7644e-04 - val_mae: 0.0127\n",
      "Epoch 49/100\n",
      "\n",
      "Epoch 49: val_loss did not improve from 0.00002\n",
      "98/98 - 6s - 60ms/step - loss: 6.2962e-04 - mae: 0.0055 - val_loss: 1.1079e-04 - val_mae: 0.0099\n",
      "Epoch 50/100\n",
      "\n",
      "Epoch 50: val_loss did not improve from 0.00002\n",
      "98/98 - 6s - 61ms/step - loss: 6.3030e-04 - mae: 0.0057 - val_loss: 3.5022e-04 - val_mae: 0.0180\n",
      "Epoch 51/100\n",
      "\n",
      "Epoch 51: val_loss did not improve from 0.00002\n",
      "98/98 - 5s - 53ms/step - loss: 6.2232e-04 - mae: 0.0058 - val_loss: 1.3577e-04 - val_mae: 0.0110\n",
      "Epoch 52/100\n",
      "\n",
      "Epoch 52: val_loss did not improve from 0.00002\n",
      "98/98 - 5s - 52ms/step - loss: 6.2186e-04 - mae: 0.0056 - val_loss: 2.1472e-04 - val_mae: 0.0141\n",
      "Epoch 53/100\n",
      "\n",
      "Epoch 53: val_loss did not improve from 0.00002\n",
      "98/98 - 6s - 56ms/step - loss: 6.1487e-04 - mae: 0.0054 - val_loss: 1.5087e-04 - val_mae: 0.0117\n",
      "Epoch 54/100\n",
      "\n",
      "Epoch 54: val_loss did not improve from 0.00002\n",
      "98/98 - 5s - 52ms/step - loss: 6.1678e-04 - mae: 0.0053 - val_loss: 2.0088e-04 - val_mae: 0.0136\n",
      "Epoch 55/100\n",
      "\n",
      "Epoch 55: val_loss did not improve from 0.00002\n",
      "98/98 - 6s - 66ms/step - loss: 6.1826e-04 - mae: 0.0053 - val_loss: 1.5844e-04 - val_mae: 0.0119\n",
      "Epoch 56/100\n",
      "\n",
      "Epoch 56: val_loss did not improve from 0.00002\n",
      "98/98 - 6s - 66ms/step - loss: 6.4357e-04 - mae: 0.0057 - val_loss: 1.8614e-04 - val_mae: 0.0129\n",
      "Epoch 57/100\n",
      "\n",
      "Epoch 57: val_loss did not improve from 0.00002\n",
      "98/98 - 6s - 61ms/step - loss: 6.2274e-04 - mae: 0.0054 - val_loss: 1.8677e-04 - val_mae: 0.0130\n",
      "Epoch 58/100\n",
      "\n",
      "Epoch 58: val_loss did not improve from 0.00002\n",
      "98/98 - 6s - 64ms/step - loss: 6.2403e-04 - mae: 0.0054 - val_loss: 1.2278e-04 - val_mae: 0.0105\n",
      "Epoch 59/100\n",
      "\n",
      "Epoch 59: val_loss did not improve from 0.00002\n",
      "98/98 - 6s - 63ms/step - loss: 6.2031e-04 - mae: 0.0054 - val_loss: 2.2869e-04 - val_mae: 0.0145\n",
      "Epoch 60/100\n",
      "\n",
      "Epoch 60: val_loss did not improve from 0.00002\n",
      "98/98 - 6s - 59ms/step - loss: 6.1970e-04 - mae: 0.0055 - val_loss: 1.3780e-04 - val_mae: 0.0111\n",
      "Epoch 61/100\n",
      "\n",
      "Epoch 61: val_loss did not improve from 0.00002\n",
      "98/98 - 6s - 62ms/step - loss: 6.1478e-04 - mae: 0.0054 - val_loss: 1.4836e-04 - val_mae: 0.0116\n",
      "Epoch 62/100\n",
      "\n",
      "Epoch 62: val_loss did not improve from 0.00002\n",
      "98/98 - 6s - 62ms/step - loss: 6.1130e-04 - mae: 0.0052 - val_loss: 9.7706e-05 - val_mae: 0.0092\n",
      "Epoch 63/100\n",
      "\n",
      "Epoch 63: val_loss did not improve from 0.00002\n",
      "98/98 - 6s - 59ms/step - loss: 6.1832e-04 - mae: 0.0053 - val_loss: 1.9234e-04 - val_mae: 0.0132\n",
      "Epoch 64/100\n",
      "\n",
      "Epoch 64: val_loss did not improve from 0.00002\n",
      "98/98 - 6s - 64ms/step - loss: 6.2230e-04 - mae: 0.0050 - val_loss: 7.1522e-05 - val_mae: 0.0077\n",
      "Epoch 65/100\n",
      "\n",
      "Epoch 65: val_loss did not improve from 0.00002\n",
      "98/98 - 6s - 57ms/step - loss: 6.2956e-04 - mae: 0.0056 - val_loss: 1.1175e-04 - val_mae: 0.0095\n",
      "Epoch 66/100\n",
      "\n",
      "Epoch 66: val_loss did not improve from 0.00002\n",
      "98/98 - 5s - 52ms/step - loss: 6.1961e-04 - mae: 0.0054 - val_loss: 8.7436e-05 - val_mae: 0.0087\n",
      "Epoch 67/100\n",
      "\n",
      "Epoch 67: val_loss did not improve from 0.00002\n",
      "98/98 - 6s - 58ms/step - loss: 6.1030e-04 - mae: 0.0050 - val_loss: 8.3098e-05 - val_mae: 0.0085\n",
      "Epoch 68/100\n",
      "\n",
      "Epoch 68: val_loss did not improve from 0.00002\n",
      "98/98 - 5s - 55ms/step - loss: 6.1392e-04 - mae: 0.0052 - val_loss: 2.1844e-04 - val_mae: 0.0142\n",
      "Epoch 69/100\n",
      "\n",
      "Epoch 69: val_loss did not improve from 0.00002\n",
      "98/98 - 5s - 51ms/step - loss: 6.1917e-04 - mae: 0.0054 - val_loss: 1.5183e-04 - val_mae: 0.0118\n",
      "Epoch 70/100\n",
      "\n",
      "Epoch 70: val_loss did not improve from 0.00002\n",
      "98/98 - 5s - 49ms/step - loss: 6.0988e-04 - mae: 0.0052 - val_loss: 1.1546e-04 - val_mae: 0.0101\n",
      "Epoch 71/100\n",
      "\n",
      "Epoch 71: val_loss did not improve from 0.00002\n",
      "98/98 - 5s - 46ms/step - loss: 6.1775e-04 - mae: 0.0054 - val_loss: 1.7873e-04 - val_mae: 0.0128\n",
      "Epoch 72/100\n",
      "\n",
      "Epoch 72: val_loss did not improve from 0.00002\n",
      "98/98 - 5s - 53ms/step - loss: 6.1279e-04 - mae: 0.0051 - val_loss: 9.8737e-05 - val_mae: 0.0093\n",
      "Epoch 73/100\n",
      "\n",
      "Epoch 73: val_loss did not improve from 0.00002\n",
      "98/98 - 5s - 55ms/step - loss: 6.0585e-04 - mae: 0.0046 - val_loss: 7.2297e-05 - val_mae: 0.0078\n",
      "Epoch 74/100\n",
      "\n",
      "Epoch 74: val_loss did not improve from 0.00002\n",
      "98/98 - 5s - 54ms/step - loss: 6.1304e-04 - mae: 0.0049 - val_loss: 1.7201e-04 - val_mae: 0.0125\n",
      "Epoch 75/100\n",
      "\n",
      "Epoch 75: val_loss did not improve from 0.00002\n",
      "98/98 - 5s - 52ms/step - loss: 6.0837e-04 - mae: 0.0048 - val_loss: 8.1125e-05 - val_mae: 0.0084\n",
      "Epoch 76/100\n",
      "\n",
      "Epoch 76: val_loss did not improve from 0.00002\n",
      "98/98 - 5s - 50ms/step - loss: 6.0634e-04 - mae: 0.0049 - val_loss: 8.8136e-05 - val_mae: 0.0087\n",
      "Epoch 77/100\n",
      "\n",
      "Epoch 77: val_loss did not improve from 0.00002\n",
      "98/98 - 6s - 58ms/step - loss: 6.1198e-04 - mae: 0.0051 - val_loss: 1.3755e-04 - val_mae: 0.0111\n",
      "Epoch 78/100\n",
      "\n",
      "Epoch 78: val_loss did not improve from 0.00002\n",
      "98/98 - 5s - 48ms/step - loss: 6.1428e-04 - mae: 0.0053 - val_loss: 1.8190e-04 - val_mae: 0.0129\n",
      "Epoch 79/100\n",
      "\n",
      "Epoch 79: val_loss did not improve from 0.00002\n",
      "98/98 - 3s - 31ms/step - loss: 6.1296e-04 - mae: 0.0049 - val_loss: 3.6659e-05 - val_mae: 0.0050\n",
      "Epoch 80/100\n",
      "\n",
      "Epoch 80: val_loss did not improve from 0.00002\n",
      "98/98 - 4s - 38ms/step - loss: 6.1240e-04 - mae: 0.0050 - val_loss: 1.6903e-04 - val_mae: 0.0124\n",
      "Epoch 81/100\n",
      "\n",
      "Epoch 81: val_loss did not improve from 0.00002\n",
      "98/98 - 4s - 45ms/step - loss: 6.0632e-04 - mae: 0.0052 - val_loss: 6.8984e-05 - val_mae: 0.0076\n",
      "Epoch 82/100\n",
      "\n",
      "Epoch 82: val_loss did not improve from 0.00002\n",
      "98/98 - 3s - 32ms/step - loss: 6.1419e-04 - mae: 0.0050 - val_loss: 1.2964e-04 - val_mae: 0.0108\n",
      "Epoch 83/100\n",
      "\n",
      "Epoch 83: val_loss did not improve from 0.00002\n",
      "98/98 - 3s - 32ms/step - loss: 6.1455e-04 - mae: 0.0052 - val_loss: 1.5676e-04 - val_mae: 0.0120\n",
      "Epoch 84/100\n",
      "\n",
      "Epoch 84: val_loss did not improve from 0.00002\n",
      "98/98 - 3s - 33ms/step - loss: 6.0917e-04 - mae: 0.0049 - val_loss: 7.5307e-05 - val_mae: 0.0080\n",
      "Epoch 85/100\n",
      "\n",
      "Epoch 85: val_loss did not improve from 0.00002\n",
      "98/98 - 3s - 33ms/step - loss: 6.1393e-04 - mae: 0.0050 - val_loss: 1.5761e-04 - val_mae: 0.0120\n",
      "Epoch 86/100\n",
      "\n",
      "Epoch 86: val_loss did not improve from 0.00002\n",
      "98/98 - 3s - 30ms/step - loss: 6.0809e-04 - mae: 0.0048 - val_loss: 6.6707e-05 - val_mae: 0.0075\n",
      "Epoch 87/100\n",
      "\n",
      "Epoch 87: val_loss did not improve from 0.00002\n",
      "98/98 - 3s - 29ms/step - loss: 6.0209e-04 - mae: 0.0046 - val_loss: 7.7238e-05 - val_mae: 0.0082\n",
      "Epoch 88/100\n",
      "\n",
      "Epoch 88: val_loss did not improve from 0.00002\n",
      "98/98 - 3s - 29ms/step - loss: 6.1027e-04 - mae: 0.0050 - val_loss: 1.5164e-04 - val_mae: 0.0118\n",
      "Epoch 89/100\n",
      "\n",
      "Epoch 89: val_loss did not improve from 0.00002\n",
      "98/98 - 3s - 29ms/step - loss: 6.0492e-04 - mae: 0.0047 - val_loss: 5.1193e-05 - val_mae: 0.0063\n",
      "Epoch 90/100\n",
      "\n",
      "Epoch 90: val_loss did not improve from 0.00002\n",
      "98/98 - 3s - 31ms/step - loss: 6.0972e-04 - mae: 0.0049 - val_loss: 1.7176e-04 - val_mae: 0.0125\n",
      "Epoch 91/100\n",
      "\n",
      "Epoch 91: val_loss did not improve from 0.00002\n",
      "98/98 - 3s - 29ms/step - loss: 6.0506e-04 - mae: 0.0048 - val_loss: 6.0574e-05 - val_mae: 0.0069\n",
      "Epoch 92/100\n",
      "\n",
      "Epoch 92: val_loss did not improve from 0.00002\n",
      "98/98 - 3s - 34ms/step - loss: 6.0194e-04 - mae: 0.0047 - val_loss: 6.1548e-05 - val_mae: 0.0071\n",
      "Epoch 93/100\n",
      "\n",
      "Epoch 93: val_loss did not improve from 0.00002\n",
      "98/98 - 3s - 32ms/step - loss: 6.0639e-04 - mae: 0.0050 - val_loss: 1.8018e-04 - val_mae: 0.0129\n",
      "Epoch 94/100\n",
      "\n",
      "Epoch 94: val_loss did not improve from 0.00002\n",
      "98/98 - 3s - 32ms/step - loss: 6.2231e-04 - mae: 0.0054 - val_loss: 2.1377e-04 - val_mae: 0.0139\n",
      "Epoch 95/100\n",
      "\n",
      "Epoch 95: val_loss did not improve from 0.00002\n",
      "98/98 - 3s - 32ms/step - loss: 6.1466e-04 - mae: 0.0053 - val_loss: 1.1760e-04 - val_mae: 0.0102\n",
      "Epoch 96/100\n",
      "\n",
      "Epoch 96: val_loss did not improve from 0.00002\n",
      "98/98 - 3s - 32ms/step - loss: 6.0214e-04 - mae: 0.0046 - val_loss: 6.1769e-05 - val_mae: 0.0071\n",
      "Epoch 97/100\n",
      "\n",
      "Epoch 97: val_loss did not improve from 0.00002\n",
      "98/98 - 3s - 33ms/step - loss: 6.0154e-04 - mae: 0.0047 - val_loss: 6.5535e-05 - val_mae: 0.0074\n",
      "Epoch 98/100\n",
      "\n",
      "Epoch 98: val_loss did not improve from 0.00002\n",
      "98/98 - 3s - 33ms/step - loss: 6.1003e-04 - mae: 0.0051 - val_loss: 2.4509e-04 - val_mae: 0.0150\n",
      "Epoch 99/100\n",
      "\n",
      "Epoch 99: val_loss did not improve from 0.00002\n",
      "98/98 - 4s - 46ms/step - loss: 6.0670e-04 - mae: 0.0049 - val_loss: 5.7333e-05 - val_mae: 0.0068\n",
      "Epoch 100/100\n",
      "\n",
      "Epoch 100: val_loss did not improve from 0.00002\n",
      "98/98 - 3s - 35ms/step - loss: 6.1187e-04 - mae: 0.0050 - val_loss: 1.7048e-04 - val_mae: 0.0125\n"
     ]
    }
   ],
   "source": [
    "# Cell 4: model definition and training\n",
    "from tensorflow.keras.layers import GRU\n",
    "\n",
    "model = Sequential([\n",
    "    GRU(128, return_sequences=True, input_shape=(lookback, 1)),\n",
    "    Dropout(0.3),\n",
    "    GRU(64),\n",
    "    Dropout(0.2),\n",
    "    Dense(64, activation='relu'),\n",
    "    Dense(1)\n",
    "])\n",
    "\n",
    "model.compile(optimizer='adam', loss='mse', metrics=['mae'])\n",
    "model.summary()\n",
    "\n",
    "\n",
    "\n",
    "\n",
    "# callbacks\n",
    "os.makedirs('models', exist_ok=True)\n",
    "checkpoint_path = \"models/best_lstm.h5\"\n",
    "checkpoint = ModelCheckpoint(checkpoint_path, monitor='val_loss', save_best_only=True, verbose=1)\n",
    "#early = EarlyStopping(monitor='val_loss', patience=10, restore_best_weights=True, verbose=1)\n",
    "\n",
    "history = model.fit(\n",
    "    X_train, y_train,\n",
    "    validation_data=(X_test, y_test),\n",
    "    epochs=100,\n",
    "    batch_size=16,\n",
    "    callbacks=[checkpoint],\n",
    "    verbose=2\n",
    ")\n"
   ]
  },
  {
   "cell_type": "code",
   "execution_count": 42,
   "id": "1b51397e-c623-46fb-8bdb-5f3618fed859",
   "metadata": {},
   "outputs": [
    {
     "name": "stdout",
     "output_type": "stream",
     "text": [
      "Saved model to: models/final_lstm_model.h5\n",
      "Saved scaler to: models/minmax_scaler.save\n"
     ]
    }
   ],
   "source": [
    "# Cell 5: save final artifacts\n",
    "# The ModelCheckpoint already saved best weights to checkpoint_path; we'll also save the final model for convenience.\n",
    "final_model_path = \"models/final_lstm_model.h5\"\n",
    "model.save(final_model_path)\n",
    "print(\"Saved model to:\", final_model_path)\n",
    "\n",
    "# Save scaler\n",
    "scaler_path = \"models/minmax_scaler.save\"\n",
    "joblib.dump(scaler, scaler_path)\n",
    "print(\"Saved scaler to:\", scaler_path)\n"
   ]
  },
  {
   "cell_type": "code",
   "execution_count": 43,
   "id": "96ee0ee3-5f59-4d8d-833d-55bd843c166b",
   "metadata": {},
   "outputs": [
    {
     "name": "stdout",
     "output_type": "stream",
     "text": [
      "Loaded model and scaler.\n"
     ]
    }
   ],
   "source": [
    "# Cell 6: load model & scaler for inference\n",
    "from tensorflow.keras.models import load_model\n",
    "\n",
    "loaded_model = load_model(\"models/best_lstm.h5\")  # best checkpoint\n",
    "loaded_scaler = joblib.load(\"models/minmax_scaler.save\")\n",
    "\n",
    "print(\"Loaded model and scaler.\")\n"
   ]
  },
  {
   "cell_type": "code",
   "execution_count": 44,
   "id": "df95a2bd-6d8f-4cff-bcf3-7f24911e3a0b",
   "metadata": {},
   "outputs": [],
   "source": [
    "# Cell 7: function to predict n steps ahead using iterative forecasting\n",
    "def predict_n_days(model, scaler, last_60_array, n_days):\n",
    "    \"\"\"\n",
    "    model: trained keras model\n",
    "    scaler: fitted MinMaxScaler\n",
    "    last_60_array: shape (60,) or (60,1) raw prices (NOT scaled)\n",
    "    n_days: integer, number of days to forecast\n",
    "    returns: list of predicted raw prices length n_days\n",
    "    \"\"\"\n",
    "    # prepare\n",
    "    arr = np.array(last_60_array).astype(float).reshape(-1,1)\n",
    "    # if shape is (60,1) flatten to (60,)\n",
    "    arr = arr.flatten()\n",
    "    preds = []\n",
    "    cur_window = arr.copy()\n",
    "    for i in range(n_days):\n",
    "        # scale\n",
    "        cur_window_scaled = scaler.transform(cur_window.reshape(-1,1)).flatten()\n",
    "        X_in = cur_window_scaled[-lookback:].reshape(1, lookback, 1)\n",
    "        yhat_scaled = model.predict(X_in, verbose=0)[0,0]\n",
    "        yhat_raw = scaler.inverse_transform(np.array([[yhat_scaled]]))[0,0]\n",
    "        preds.append(float(yhat_raw))\n",
    "        # append predicted value to window for next iteration\n",
    "        cur_window = np.append(cur_window, yhat_raw)\n",
    "    return preds\n"
   ]
  },
  {
   "cell_type": "code",
   "execution_count": 45,
   "id": "fdc2c165-ffd7-40e4-9d70-8c4c3d1fb503",
   "metadata": {},
   "outputs": [
    {
     "name": "stdout",
     "output_type": "stream",
     "text": [
      "Choose input method:\n",
      "1) Use last 60 days from CSV dataframe\n",
      "2) Paste 60 comma-separated prices (no dates)\n"
     ]
    },
    {
     "name": "stdout",
     "output_type": "stream",
     "text": [
      "Enter 1 or 2 (press Enter to default to 1):  2\n",
      "Paste 60 comma-separated numeric prices:  3600,3600,3600,3599,3400,3400,3850,3850,3900,3900, 3900,3900,3900,3900,3700,3700,3650,3650,3680,3680, 3720,3720,3740,3740,3780,3780,3820,3820,3840,3840, 3860,3860,3880,3880,3890,3890,3900,3900,3885,3885, 3870,3870,3860,3860,3845,3845,3830,3830,3810,3810, 3790,3790,3760,3760,3730,3730,3700,3700,3680,3680\n"
     ]
    },
    {
     "name": "stdout",
     "output_type": "stream",
     "text": [
      "Using user-pasted 60 prices\n",
      "Last 5 of input window: [3730. 3700. 3700. 3680. 3680.]\n",
      "Next 7 days predictions: [3700.84, 3709.3, 3717.13, 3723.73, 3729.34, 3734.21, 3738.47]\n",
      "Next 30 days predictions (first 7 shown): [3700.84, 3709.3, 3717.13, 3723.73, 3729.34, 3734.21, 3738.47]\n"
     ]
    }
   ],
   "source": [
    "# Cell 8: prompt user for input or use last 60 days from dataset\n",
    "print(\"Choose input method:\")\n",
    "print(\"1) Use last 60 days from CSV dataframe\")\n",
    "print(\"2) Paste 60 comma-separated prices (no dates)\")\n",
    "\n",
    "choice = input(\"Enter 1 or 2 (press Enter to default to 1): \").strip()\n",
    "if choice == \"\" or choice == \"1\":\n",
    "    # use last 60 observations from df\n",
    "    if len(df) < lookback:\n",
    "        raise ValueError(f\"Not enough rows in CSV: need >= {lookback} rows.\")\n",
    "    last_60 = df['price'].values[-lookback:]\n",
    "    source_note = f\"Using last {lookback} days from CSV ending {df.index[-1].date()}\"\n",
    "else:\n",
    "    raw = input(f\"Paste {lookback} comma-separated numeric prices: \").strip()\n",
    "    parts = [p.strip() for p in raw.split(\",\") if p.strip()!='']\n",
    "    if len(parts) != lookback:\n",
    "        raise ValueError(f\"Expected {lookback} values but got {len(parts)}. Aborting.\")\n",
    "    last_60 = np.array(parts, dtype=float)\n",
    "    source_note = \"Using user-pasted 60 prices\"\n",
    "\n",
    "print(source_note)\n",
    "print(\"Last 5 of input window:\", last_60[-5:])\n",
    "\n",
    "# Predict next 7 days and next 30 days\n",
    "pred_7 = predict_n_days(loaded_model, loaded_scaler, last_60, 7)\n",
    "pred_30 = predict_n_days(loaded_model, loaded_scaler, last_60, 30)\n",
    "\n",
    "print(\"Next 7 days predictions:\", [round(x,2) for x in pred_7])\n",
    "print(\"Next 30 days predictions (first 7 shown):\", [round(x,2) for x in pred_30[:7]])\n"
   ]
  },
  {
   "cell_type": "code",
   "execution_count": 3,
   "id": "15f221a4-3c08-4b8e-bc80-5ca6a7ed798d",
   "metadata": {},
   "outputs": [
    {
     "ename": "NameError",
     "evalue": "name 'choice' is not defined",
     "output_type": "error",
     "traceback": [
      "\u001b[1;31m---------------------------------------------------------------------------\u001b[0m",
      "\u001b[1;31mNameError\u001b[0m                                 Traceback (most recent call last)",
      "Cell \u001b[1;32mIn[3], line 5\u001b[0m\n\u001b[0;32m      1\u001b[0m \u001b[38;5;66;03m# Updated plotting logic\u001b[39;00m\n\u001b[0;32m      3\u001b[0m plt\u001b[38;5;241m.\u001b[39mfigure(figsize\u001b[38;5;241m=\u001b[39m(\u001b[38;5;241m14\u001b[39m,\u001b[38;5;241m7\u001b[39m))\n\u001b[1;32m----> 5\u001b[0m \u001b[38;5;28;01mif\u001b[39;00m \u001b[43mchoice\u001b[49m \u001b[38;5;241m==\u001b[39m \u001b[38;5;124m\"\u001b[39m\u001b[38;5;124m\"\u001b[39m \u001b[38;5;129;01mor\u001b[39;00m choice \u001b[38;5;241m==\u001b[39m \u001b[38;5;124m\"\u001b[39m\u001b[38;5;124m1\u001b[39m\u001b[38;5;124m\"\u001b[39m:\n\u001b[0;32m      6\u001b[0m     \u001b[38;5;66;03m# Case 1: using last 60 days from CSV\u001b[39;00m\n\u001b[0;32m      7\u001b[0m     last_date \u001b[38;5;241m=\u001b[39m df\u001b[38;5;241m.\u001b[39mindex[\u001b[38;5;241m-\u001b[39m\u001b[38;5;241m1\u001b[39m]\n\u001b[0;32m      8\u001b[0m     hist_df \u001b[38;5;241m=\u001b[39m df\u001b[38;5;241m.\u001b[39mcopy()\n",
      "\u001b[1;31mNameError\u001b[0m: name 'choice' is not defined"
     ]
    },
    {
     "data": {
      "text/plain": [
       "<Figure size 1400x700 with 0 Axes>"
      ]
     },
     "metadata": {},
     "output_type": "display_data"
    }
   ],
   "source": [
    "# Updated plotting logic\n",
    "\n",
    "plt.figure(figsize=(14,7))\n",
    "\n",
    "if choice == \"\" or choice == \"1\":\n",
    "    # Case 1: using last 60 days from CSV\n",
    "    last_date = df.index[-1]\n",
    "    hist_df = df.copy()\n",
    "    hist_to_show = 120\n",
    "    if len(hist_df) > hist_to_show:\n",
    "        hist_df = hist_df[-hist_to_show:]\n",
    "    # plot full historical line\n",
    "    plt.plot(hist_df.index, hist_df['price'], label='Historical Price (raw)', linewidth=2)\n",
    "\n",
    "else:\n",
    "    # Case 2: user pasted 60 values\n",
    "    # Assume they are last 60 days ending today\n",
    "    today = pd.Timestamp.today().normalize()\n",
    "    dates_input = [today - pd.Timedelta(days=59-i) for i in range(60)]\n",
    "    plt.plot(dates_input, last_60, label=\"User Input (60 days)\", linewidth=2)\n",
    "    last_date = today\n",
    "\n",
    "# Forecast dates\n",
    "dates_7 = [last_date + pd.Timedelta(days=i) for i in range(1, 8)]\n",
    "dates_30 = [last_date + pd.Timedelta(days=i) for i in range(1, 31)]\n",
    "\n",
    "# Plot predictions\n",
    "plt.plot(dates_7, pred_7, label='7-day Forecast', linestyle='-', marker='o')\n",
    "plt.scatter(dates_7, pred_7, s=80)\n",
    "\n",
    "plt.plot(dates_30, pred_30, label='30-day Forecast', linestyle='--', marker='x')\n",
    "plt.scatter(dates_30, pred_30, s=40)\n",
    "\n",
    "plt.title('Wheat Prices — Historical + Forecast')\n",
    "plt.xlabel('Date')\n",
    "plt.ylabel('Price (Rs./quintal)')\n",
    "plt.grid(alpha=0.25)\n",
    "plt.legend()\n",
    "plt.xticks(rotation=30)\n",
    "plt.tight_layout()\n",
    "plt.show()\n"
   ]
  },
  {
   "cell_type": "code",
   "execution_count": null,
   "id": "8cf73ed3-058a-40c6-84d8-b4a57a5be19a",
   "metadata": {},
   "outputs": [],
   "source": []
  },
  {
   "cell_type": "code",
   "execution_count": 47,
   "id": "57442ac2-7789-4720-8782-81b41e6bb396",
   "metadata": {},
   "outputs": [
    {
     "name": "stdout",
     "output_type": "stream",
     "text": [
      "Saved predictions to wheat_price_predictions.csv\n"
     ]
    },
    {
     "data": {
      "text/html": [
       "<div>\n",
       "<style scoped>\n",
       "    .dataframe tbody tr th:only-of-type {\n",
       "        vertical-align: middle;\n",
       "    }\n",
       "\n",
       "    .dataframe tbody tr th {\n",
       "        vertical-align: top;\n",
       "    }\n",
       "\n",
       "    .dataframe thead th {\n",
       "        text-align: right;\n",
       "    }\n",
       "</style>\n",
       "<table border=\"1\" class=\"dataframe\">\n",
       "  <thead>\n",
       "    <tr style=\"text-align: right;\">\n",
       "      <th></th>\n",
       "      <th>date</th>\n",
       "      <th>horizon</th>\n",
       "      <th>predicted_price</th>\n",
       "    </tr>\n",
       "  </thead>\n",
       "  <tbody>\n",
       "    <tr>\n",
       "      <th>0</th>\n",
       "      <td>2025-09-06</td>\n",
       "      <td>7_day</td>\n",
       "      <td>3700.843750</td>\n",
       "    </tr>\n",
       "    <tr>\n",
       "      <th>1</th>\n",
       "      <td>2025-09-07</td>\n",
       "      <td>7_day</td>\n",
       "      <td>3709.301758</td>\n",
       "    </tr>\n",
       "    <tr>\n",
       "      <th>2</th>\n",
       "      <td>2025-09-08</td>\n",
       "      <td>7_day</td>\n",
       "      <td>3717.133057</td>\n",
       "    </tr>\n",
       "    <tr>\n",
       "      <th>3</th>\n",
       "      <td>2025-09-09</td>\n",
       "      <td>7_day</td>\n",
       "      <td>3723.727051</td>\n",
       "    </tr>\n",
       "    <tr>\n",
       "      <th>4</th>\n",
       "      <td>2025-09-10</td>\n",
       "      <td>7_day</td>\n",
       "      <td>3729.342773</td>\n",
       "    </tr>\n",
       "    <tr>\n",
       "      <th>5</th>\n",
       "      <td>2025-09-11</td>\n",
       "      <td>7_day</td>\n",
       "      <td>3734.207275</td>\n",
       "    </tr>\n",
       "    <tr>\n",
       "      <th>6</th>\n",
       "      <td>2025-09-12</td>\n",
       "      <td>7_day</td>\n",
       "      <td>3738.471436</td>\n",
       "    </tr>\n",
       "    <tr>\n",
       "      <th>7</th>\n",
       "      <td>2025-09-06</td>\n",
       "      <td>30_day</td>\n",
       "      <td>3700.843750</td>\n",
       "    </tr>\n",
       "    <tr>\n",
       "      <th>8</th>\n",
       "      <td>2025-09-07</td>\n",
       "      <td>30_day</td>\n",
       "      <td>3709.301758</td>\n",
       "    </tr>\n",
       "    <tr>\n",
       "      <th>9</th>\n",
       "      <td>2025-09-08</td>\n",
       "      <td>30_day</td>\n",
       "      <td>3717.133057</td>\n",
       "    </tr>\n",
       "    <tr>\n",
       "      <th>10</th>\n",
       "      <td>2025-09-09</td>\n",
       "      <td>30_day</td>\n",
       "      <td>3723.727051</td>\n",
       "    </tr>\n",
       "    <tr>\n",
       "      <th>11</th>\n",
       "      <td>2025-09-10</td>\n",
       "      <td>30_day</td>\n",
       "      <td>3729.342773</td>\n",
       "    </tr>\n",
       "  </tbody>\n",
       "</table>\n",
       "</div>"
      ],
      "text/plain": [
       "          date horizon  predicted_price\n",
       "0   2025-09-06   7_day      3700.843750\n",
       "1   2025-09-07   7_day      3709.301758\n",
       "2   2025-09-08   7_day      3717.133057\n",
       "3   2025-09-09   7_day      3723.727051\n",
       "4   2025-09-10   7_day      3729.342773\n",
       "5   2025-09-11   7_day      3734.207275\n",
       "6   2025-09-12   7_day      3738.471436\n",
       "7   2025-09-06  30_day      3700.843750\n",
       "8   2025-09-07  30_day      3709.301758\n",
       "9   2025-09-08  30_day      3717.133057\n",
       "10  2025-09-09  30_day      3723.727051\n",
       "11  2025-09-10  30_day      3729.342773"
      ]
     },
     "metadata": {},
     "output_type": "display_data"
    }
   ],
   "source": [
    "# Cell 10: save predictions to csv for further use\n",
    "out = []\n",
    "for d, p in zip(dates_7, pred_7):\n",
    "    out.append({'date': d.date().isoformat(), 'horizon': '7_day', 'predicted_price': p})\n",
    "for d, p in zip(dates_30, pred_30):\n",
    "    out.append({'date': d.date().isoformat(), 'horizon': '30_day', 'predicted_price': p})\n",
    "\n",
    "out_df = pd.DataFrame(out)\n",
    "out_df.to_csv(\"wheat_price_predictions.csv\", index=False)\n",
    "print(\"Saved predictions to wheat_price_predictions.csv\")\n",
    "display(out_df.head(12))\n"
   ]
  },
  {
   "cell_type": "code",
   "execution_count": 48,
   "id": "9c6962d9-edc9-4e97-8f0b-93a04d5093e3",
   "metadata": {},
   "outputs": [
    {
     "name": "stdout",
     "output_type": "stream",
     "text": [
      "MAE: 117.78\n",
      "RMSE: 153.95\n",
      "R² Score: 0.7788\n"
     ]
    }
   ],
   "source": [
    "# Predict on test set\n",
    "y_pred_scaled = model.predict(X_test)\n",
    "y_pred = scaler.inverse_transform(y_pred_scaled)\n",
    "\n",
    "y_true = scaler.inverse_transform(y_test.reshape(-1,1))\n",
    "\n",
    "# Accuracy metrics\n",
    "from sklearn.metrics import mean_absolute_error, mean_squared_error, r2_score\n",
    "mae = mean_absolute_error(y_true, y_pred)\n",
    "rmse = np.sqrt(mean_squared_error(y_true, y_pred))\n",
    "r2 = r2_score(y_true, y_pred)\n",
    "\n",
    "print(f\"MAE: {mae:.2f}\")\n",
    "print(f\"RMSE: {rmse:.2f}\")\n",
    "print(f\"R² Score: {r2:.4f}\")\n"
   ]
  },
  {
   "cell_type": "code",
   "execution_count": 49,
   "id": "6cd70671-e00b-4f58-9eb7-d5523fe2357e",
   "metadata": {},
   "outputs": [
    {
     "data": {
      "image/png": "[encoded data removed]",
      "text/plain": [
       "<Figure size 1400x600 with 1 Axes>"
      ]
     },
     "metadata": {},
     "output_type": "display_data"
    }
   ],
   "source": [
    "# Align dates for test period\n",
    "test_dates = df.index[-len(y_true):]\n",
    "\n",
    "plt.figure(figsize=(14,6))\n",
    "plt.plot(test_dates, y_true, label=\"Actual Prices\", linewidth=2)\n",
    "plt.plot(test_dates, y_pred, label=\"Predicted Prices\", linewidth=2, linestyle=\"--\", marker=\"o\")\n",
    "\n",
    "plt.title(\"Wheat Price Prediction — Actual vs Predicted\")\n",
    "plt.xlabel(\"Date\")\n",
    "plt.ylabel(\"Price (Rs./quintal)\")\n",
    "plt.legend()\n",
    "plt.grid(alpha=0.3)\n",
    "plt.xticks(rotation=30)\n",
    "plt.tight_layout()\n",
    "plt.show()\n"
   ]
  },
  {
   "cell_type": "code",
   "execution_count": 50,
   "id": "44ff9317-e351-47a7-a3b4-bd9bcb94947d",
   "metadata": {},
   "outputs": [
    {
     "name": "stdout",
     "output_type": "stream",
     "text": [
      "Ground Truth: 3570.0\n",
      "Predicted   : 3883.65\n"
     ]
    }
   ],
   "source": [
    "import random\n",
    "\n",
    "# pick a random index in test set\n",
    "idx = random.randint(0, len(X_test)-1)\n",
    "\n",
    "sample_X = X_test[idx:idx+1]   # shape (1,60,1)\n",
    "sample_y_true = scaler.inverse_transform(y_test[idx].reshape(-1,1))[0,0]\n",
    "sample_y_pred = scaler.inverse_transform(model.predict(sample_X))[0,0]\n",
    "\n",
    "print(\"Ground Truth:\", round(sample_y_true,2))\n",
    "print(\"Predicted   :\", round(sample_y_pred,2))\n"
   ]
  },
  {
   "cell_type": "code",
   "execution_count": null,
   "id": "afccafa9-48ab-45d8-a2e5-9c1433251eee",
   "metadata": {},
   "outputs": [],
   "source": []
  }
 ],
 "metadata": {
  "kernelspec": {
   "display_name": "venv (3.10.11)",
   "language": "python",
   "name": "python3"
  },
  "language_info": {
   "codemirror_mode": {
    "name": "ipython",
    "version": 3
   },
   "file_extension": ".py",
   "mimetype": "text/x-python",
   "name": "python",
   "nbconvert_exporter": "python",
   "pygments_lexer": "ipython3",
   "version": "3.10.11"
  }
 },
 "nbformat": 4,
 "nbformat_minor": 5
}
